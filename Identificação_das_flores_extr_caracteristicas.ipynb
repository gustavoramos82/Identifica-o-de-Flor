{
  "cells": [
    {
      "cell_type": "markdown",
      "metadata": {
        "id": "view-in-github",
        "colab_type": "text"
      },
      "source": [
        "<a href=\"https://colab.research.google.com/github/gustavoramos82/Identifica-o-de-Flor/blob/main/Identifica%C3%A7%C3%A3o_das_flores_extr_caracteristicas.ipynb\" target=\"_parent\"><img src=\"https://colab.research.google.com/assets/colab-badge.svg\" alt=\"Open In Colab\"/></a>"
      ]
    },
    {
      "cell_type": "markdown",
      "metadata": {
        "id": "UzOa6-6ony1-"
      },
      "source": [
        "# Classificação de Flores - Extração de Caracteristicas\n",
        "\n",
        "Neste projeto, apartir de dataset do kaggle (que pode ser acessado [aqui](https://www.kaggle.com/datasets/nadyana/flowers)), será feito a nalise de imagem para classificar de acordo com a espécie da flor. Primerio será utilizado a extração de caracteristicas depois fine-tunning."
      ]
    },
    {
      "cell_type": "code",
      "execution_count": null,
      "metadata": {
        "id": "0Xgi9sSMnVyu"
      },
      "outputs": [],
      "source": [
        "import os\n",
        "import numpy as np\n",
        "from PIL import Image\n",
        "import matplotlib.pyplot as plt\n",
        "import seaborn as sns\n",
        "import pandas as pd\n",
        "\n",
        "from tensorflow import keras\n",
        "from tensorflow.keras.applications import vgg19,resnet50,InceptionResNetV2\n",
        "from tensorflow.keras.models import Model\n",
        "from sklearn.model_selection import train_test_split, GridSearchCV\n",
        "from sklearn.linear_model import RidgeClassifier\n",
        "from sklearn.naive_bayes import GaussianNB\n",
        "from sklearn.tree import DecisionTreeClassifier\n",
        "from sklearn.svm import SVC\n",
        "from sklearn.neighbors import KNeighborsClassifier\n",
        "from sklearn.ensemble import RandomForestClassifier, ExtraTreesClassifier, BaggingClassifier\n",
        "from sklearn.metrics import accuracy_score, precision_score, recall_score"
      ]
    },
    {
      "cell_type": "code",
      "execution_count": null,
      "metadata": {
        "id": "5F3BaeChoquQ"
      },
      "outputs": [],
      "source": [
        "# Pegando o diretorio da pasta de cada classifcador\n",
        "bellflower = os.listdir('/content/drive/MyDrive/Datasets/flowers/bellflower')\n",
        "daisy = os.listdir('/content/drive/MyDrive/Datasets/flowers/daisy')\n",
        "dandelion = os.listdir('/content/drive/MyDrive/Datasets/flowers/dandelion')\n"
      ]
    },
    {
      "cell_type": "code",
      "execution_count": null,
      "metadata": {
        "colab": {
          "base_uri": "https://localhost:8080/",
          "height": 316
        },
        "id": "J7Uc2xdcpmeH",
        "outputId": "418a5fa3-0008-4e5f-b31e-9d2217699a37"
      },
      "outputs": [
        {
          "output_type": "execute_result",
          "data": {
            "text/plain": [
              "Text(0, 0.5, 'Espécie')"
            ]
          },
          "metadata": {},
          "execution_count": 42
        },
        {
          "output_type": "display_data",
          "data": {
            "text/plain": [
              "<Figure size 432x288 with 1 Axes>"
            ],
            "image/png": "[encoded data removed]"
          },
          "metadata": {}
        }
      ],
      "source": [
        "quantidade = [len(bellflower),len(daisy),len(dandelion)]\n",
        "nome = ['Bellflower', 'Daisy','Dandelion']\n",
        "\n",
        "plt.style.use('ggplot')\n",
        "plt.title('Quantidade de imagens por classificação')\n",
        "plt.barh(nome,quantidade,color='firebrick')\n",
        "plt.xlabel('Quantidade')\n",
        "plt.ylabel('Espécie')"
      ]
    },
    {
      "cell_type": "markdown",
      "metadata": {
        "id": "37RWj_AFqmX9"
      },
      "source": [
        "Podemos ver que que cada uma tem 1600 imagens, ou seja, este dataset é balanceado acerca da quantidade de labels."
      ]
    },
    {
      "cell_type": "code",
      "execution_count": null,
      "metadata": {
        "id": "EJ4ygupVq5D4"
      },
      "outputs": [],
      "source": [
        "# fazendo a extração das imagens\n",
        "x = []\n",
        "y = []\n",
        "img_w, img_h = 224, 224"
      ]
    },
    {
      "cell_type": "code",
      "execution_count": null,
      "metadata": {
        "id": "jLi0_DsIq6nB"
      },
      "outputs": [],
      "source": [
        "for i in bellflower:\n",
        "  image = Image.open(f'/content/drive/MyDrive/Datasets/flowers/bellflower/{i}').convert('RGB')\n",
        "  image = image.resize((img_w, img_h))\n",
        "  x.append(np.asarray(image))\n",
        "  y.append(0)"
      ]
    },
    {
      "cell_type": "code",
      "execution_count": null,
      "metadata": {
        "id": "Bi12rw-PryyF"
      },
      "outputs": [],
      "source": [
        "for i in daisy:\n",
        "  image = Image.open(f'/content/drive/MyDrive/Datasets/flowers/daisy/{i}').convert('RGB')\n",
        "  image = image.resize((img_w, img_h))\n",
        "  x.append(np.asarray(image))\n",
        "  y.append(1)"
      ]
    },
    {
      "cell_type": "code",
      "execution_count": null,
      "metadata": {
        "id": "Lkdn3Gnzt9Y8"
      },
      "outputs": [],
      "source": [
        "for i in dandelion:\n",
        "  image = Image.open(f'/content/drive/MyDrive/Datasets/flowers/dandelion/{i}').convert('RGB')\n",
        "  image = image.resize((img_w, img_h))\n",
        "  x.append(np.asarray(image))\n",
        "  y.append(2)"
      ]
    },
    {
      "cell_type": "code",
      "execution_count": null,
      "metadata": {
        "id": "Ek7niYPO4GO_"
      },
      "outputs": [],
      "source": [
        "x = np.asarray(x)\n",
        "x = x.astype('float32')\n",
        "x /= 255\n",
        "y = np.asarray(y)"
      ]
    },
    {
      "cell_type": "code",
      "execution_count": null,
      "metadata": {
        "id": "SrQhVsgm5uvV"
      },
      "outputs": [],
      "source": [
        "x_treino, x_teste, y_treino, y_teste = train_test_split(x,y,test_size=0.2,random_state=10)"
      ]
    },
    {
      "cell_type": "code",
      "execution_count": null,
      "metadata": {
        "id": "wpJSzIqK50wU"
      },
      "outputs": [],
      "source": [
        "# model = vgg19.VGG19(include_top=True, weights='imagenet', input_shape=(224, 224, 3),classes=1000, classifier_activation='softmax')\n",
        "# model = resnet50.ResNet50(input_shape=(224, 224, 3), weights='imagenet', include_top=True,classifier_activation='softmax')\n",
        "model = InceptionResNetV2(input_shape=(224, 224, 3), weights='imagenet', include_top=False,classifier_activation='relu')\n",
        "model = Model(inputs=model.input, outputs=model.get_layer(index=-2).output)"
      ]
    },
    {
      "cell_type": "code",
      "execution_count": null,
      "metadata": {
        "id": "lMs045k96aNL"
      },
      "outputs": [],
      "source": [
        "prediction = np.array(model.predict(x_treino))\n",
        "Xtrain = np.reshape(prediction, (prediction.shape[0], \n",
        "         np.prod(prediction.shape[1:])))"
      ]
    },
    {
      "cell_type": "code",
      "execution_count": null,
      "metadata": {
        "id": "pcwCsCtU6hSI"
      },
      "outputs": [],
      "source": [
        "prediction = np.array(model.predict(x_teste))\n",
        "Xtest = np.reshape(prediction, (prediction.shape[0], \n",
        "         np.prod(prediction.shape[1:])))"
      ]
    },
    {
      "cell_type": "code",
      "source": [
        "acc = []\n",
        "pre = []\n",
        "rec = []"
      ],
      "metadata": {
        "id": "N2PsCtUu5pSu"
      },
      "execution_count": null,
      "outputs": []
    },
    {
      "cell_type": "code",
      "source": [
        "rid = RidgeClassifier()\n",
        "rid.fit(Xtrain,y_treino)\n",
        "y_rid = rid.predict(Xtest)"
      ],
      "metadata": {
        "colab": {
          "base_uri": "https://localhost:8080/"
        },
        "id": "2rci4_blQOnu",
        "outputId": "569a4c73-2e6b-4c42-8086-287ea04ec9de"
      },
      "execution_count": null,
      "outputs": [
        {
          "output_type": "stream",
          "name": "stderr",
          "text": [
            "/usr/local/lib/python3.7/dist-packages/sklearn/linear_model/_ridge.py:194: LinAlgWarning: Ill-conditioned matrix (rcond=1.10675e-08): result may not be accurate.\n",
            "  dual_coef = linalg.solve(K, y, sym_pos=True, overwrite_a=False)\n"
          ]
        }
      ]
    },
    {
      "cell_type": "code",
      "source": [
        "print('Acuracia',accuracy_score(y_teste,y_rid))\n",
        "acc.append(accuracy_score(y_teste,y_rid))\n",
        "print('Precisão',precision_score(y_teste,y_rid,average='macro'))\n",
        "pre.append(precision_score(y_teste,y_rid,average='macro'))\n",
        "print('Recall',recall_score(y_teste,y_rid,average='macro'))\n",
        "rec.append(recall_score(y_teste,y_rid,average='macro'))"
      ],
      "metadata": {
        "colab": {
          "base_uri": "https://localhost:8080/"
        },
        "id": "zVYvL-oyQ9Cc",
        "outputId": "b4e4f3eb-cf24-4cd6-ed7d-bf8f3540cfd6"
      },
      "execution_count": null,
      "outputs": [
        {
          "output_type": "stream",
          "name": "stdout",
          "text": [
            "Acuracia 0.946875\n",
            "Precisão 0.9467640044140279\n",
            "Recall 0.9468031636688353\n"
          ]
        }
      ]
    },
    {
      "cell_type": "code",
      "execution_count": null,
      "metadata": {
        "id": "DxVXJHbeC6Rv"
      },
      "outputs": [],
      "source": [
        "# Aplicando naive bayes\n",
        "naive = GaussianNB()\n",
        "naive.fit(Xtrain,y_treino)\n",
        "y_na_pred = naive.predict(Xtest)"
      ]
    },
    {
      "cell_type": "code",
      "execution_count": null,
      "metadata": {
        "colab": {
          "base_uri": "https://localhost:8080/"
        },
        "id": "MsdxZbTxDb2V",
        "outputId": "c638309f-4790-498d-b20d-3b9dd6ee50af"
      },
      "outputs": [
        {
          "output_type": "stream",
          "name": "stdout",
          "text": [
            "Acuracia 0.8614583333333333\n",
            "Precisão 0.8635403472118394\n",
            "Recall 0.8613113917591529\n"
          ]
        }
      ],
      "source": [
        "print('Acuracia',accuracy_score(y_teste,y_na_pred))\n",
        "acc.append(accuracy_score(y_teste,y_na_pred))\n",
        "print('Precisão',precision_score(y_teste,y_na_pred,average='macro'))\n",
        "pre.append(precision_score(y_teste,y_na_pred,average='macro'))\n",
        "print('Recall',recall_score(y_teste,y_na_pred,average='macro'))\n",
        "rec.append(recall_score(y_teste,y_na_pred,average='macro'))"
      ]
    },
    {
      "cell_type": "code",
      "execution_count": null,
      "metadata": {
        "id": "FVkYJPkiDf-x"
      },
      "outputs": [],
      "source": [
        "# Aplicando Árvore de Decisão\n",
        "tree = DecisionTreeClassifier(criterion='entropy')\n",
        "tree.fit(Xtrain,y_treino)\n",
        "y_tree_pred = tree.predict(Xtest)"
      ]
    },
    {
      "cell_type": "code",
      "execution_count": null,
      "metadata": {
        "colab": {
          "base_uri": "https://localhost:8080/"
        },
        "id": "svGjwrwoDj2u",
        "outputId": "bd04fe1b-cd95-42b0-d018-cfacd8f93b5d"
      },
      "outputs": [
        {
          "output_type": "stream",
          "name": "stdout",
          "text": [
            "Acuracia 0.840625\n",
            "Precisão 0.840995782245583\n",
            "Recall 0.841470850873836\n"
          ]
        }
      ],
      "source": [
        "print('Acuracia',accuracy_score(y_teste,y_tree_pred))\n",
        "acc.append(accuracy_score(y_teste,y_tree_pred))\n",
        "print('Precisão',precision_score(y_teste,y_tree_pred,average='macro'))\n",
        "pre.append(precision_score(y_teste,y_tree_pred,average='macro'))\n",
        "print('Recall',recall_score(y_teste,y_tree_pred,average='macro'))\n",
        "rec.append(recall_score(y_teste,y_tree_pred,average='macro'))"
      ]
    },
    {
      "cell_type": "code",
      "execution_count": null,
      "metadata": {
        "id": "mEm_4YUrEHv7"
      },
      "outputs": [],
      "source": [
        "# Usando KNN\n",
        "knn = KNeighborsClassifier()\n",
        "knn.fit(Xtrain,y_treino)\n",
        "y_knn = knn.predict(Xtest)"
      ]
    },
    {
      "cell_type": "code",
      "execution_count": null,
      "metadata": {
        "colab": {
          "base_uri": "https://localhost:8080/"
        },
        "id": "K6cO-YYUE9kR",
        "outputId": "cf4f6724-0f99-423f-f180-3b9eb15b8956"
      },
      "outputs": [
        {
          "output_type": "stream",
          "name": "stdout",
          "text": [
            "Acuracia 0.9020833333333333\n",
            "Precisão 0.9082543499697889\n",
            "Recall 0.9040477101671133\n"
          ]
        }
      ],
      "source": [
        "print('Acuracia',accuracy_score(y_teste,y_knn))\n",
        "acc.append(accuracy_score(y_teste,y_knn))\n",
        "print('Precisão',precision_score(y_teste,y_knn,average='macro'))\n",
        "pre.append(precision_score(y_teste,y_knn,average='macro'))\n",
        "print('Recall',recall_score(y_teste,y_knn,average='macro'))\n",
        "rec.append(recall_score(y_teste,y_knn,average='macro'))"
      ]
    },
    {
      "cell_type": "code",
      "execution_count": null,
      "metadata": {
        "id": "rGPYlC3qFCWa"
      },
      "outputs": [],
      "source": [
        "# Aplicando Random Forest\n",
        "rf = RandomForestClassifier(criterion='entropy')\n",
        "rf.fit(Xtrain,y_treino)\n",
        "y_rf = rf.predict(Xtest)"
      ]
    },
    {
      "cell_type": "code",
      "execution_count": null,
      "metadata": {
        "colab": {
          "base_uri": "https://localhost:8080/"
        },
        "id": "IE4nHPOGFKbb",
        "outputId": "ba476586-d0d8-499a-9319-fcd2aebf19a2"
      },
      "outputs": [
        {
          "output_type": "stream",
          "name": "stdout",
          "text": [
            "Acuracia 0.928125\n",
            "Precisão 0.9300697760420104\n",
            "Recall 0.9277803291236127\n"
          ]
        }
      ],
      "source": [
        "print('Acuracia',accuracy_score(y_teste,y_rf))\n",
        "acc.append(accuracy_score(y_teste,y_rf))\n",
        "print('Precisão',precision_score(y_teste,y_rf,average='macro'))\n",
        "pre.append(precision_score(y_teste,y_rf,average='macro'))\n",
        "print('Recall',recall_score(y_teste,y_rf,average='macro'))\n",
        "rec.append(recall_score(y_teste,y_rf,average='macro'))"
      ]
    },
    {
      "cell_type": "code",
      "execution_count": null,
      "metadata": {
        "id": "fXp22GtJFrBt"
      },
      "outputs": [],
      "source": [
        "# Svm com kernel linear\n",
        "svm = SVC()\n",
        "svm.fit(Xtrain,y_treino)\n",
        "y_svm = svm.predict(Xtest)"
      ]
    },
    {
      "cell_type": "code",
      "execution_count": null,
      "metadata": {
        "colab": {
          "base_uri": "https://localhost:8080/"
        },
        "id": "b5OLPHdIGgky",
        "outputId": "cbbf57e1-4051-4a70-db5c-4f9840fb940f"
      },
      "outputs": [
        {
          "output_type": "stream",
          "name": "stdout",
          "text": [
            "Acuracia 0.9677083333333333\n",
            "Precisão 0.9682362560802115\n",
            "Recall 0.967553259344304\n"
          ]
        }
      ],
      "source": [
        "print('Acuracia',accuracy_score(y_teste,y_svm))\n",
        "acc.append(accuracy_score(y_teste,y_svm))\n",
        "print('Precisão',precision_score(y_teste,y_svm,average='macro'))\n",
        "pre.append(precision_score(y_teste,y_svm,average='macro'))\n",
        "print('Recall',recall_score(y_teste,y_svm,average='macro'))\n",
        "rec.append(recall_score(y_teste,y_svm,average='macro'))"
      ]
    },
    {
      "cell_type": "code",
      "execution_count": null,
      "metadata": {
        "id": "gWpsfxb4MG01"
      },
      "outputs": [],
      "source": [
        "ex = ExtraTreesClassifier()\n",
        "ex.fit(Xtrain,y_treino)\n",
        "y_ex = ex.predict(Xtest)"
      ]
    },
    {
      "cell_type": "code",
      "source": [
        "print('Acuracia',accuracy_score(y_teste,y_ex))\n",
        "acc.append(accuracy_score(y_teste,y_ex))\n",
        "print('Precisão',precision_score(y_teste,y_ex,average='macro'))\n",
        "pre.append(precision_score(y_teste,y_ex,average='macro'))\n",
        "print('Recall',recall_score(y_teste,y_ex,average='macro'))\n",
        "rec.append(recall_score(y_teste,y_ex,average='macro'))"
      ],
      "metadata": {
        "colab": {
          "base_uri": "https://localhost:8080/"
        },
        "id": "62N0CI2xP_Is",
        "outputId": "8e0a999a-5b08-4c6b-bf8d-891d3f774df8"
      },
      "execution_count": null,
      "outputs": [
        {
          "output_type": "stream",
          "name": "stdout",
          "text": [
            "Acuracia 0.93125\n",
            "Precisão 0.9337301587301589\n",
            "Recall 0.9306556958795765\n"
          ]
        }
      ]
    },
    {
      "cell_type": "code",
      "source": [
        "modelo = ['RidgeClassifier()','GaussianNB()','DecisionTreeClassifier(criterion=entropy)','KNeighborsClassifier()',\n",
        "          'RandomForestClassifier(criterion=entropy)','SVC()','ExtraTreesClassifier()']"
      ],
      "metadata": {
        "id": "6UJbNb9SRK0d"
      },
      "execution_count": null,
      "outputs": []
    },
    {
      "cell_type": "code",
      "source": [
        "metrica = {'Modelo':modelo,'Acuracia':acc,'Precisão':pre,'Recall':rec}\n",
        "df_metrica = pd.DataFrame(metrica)"
      ],
      "metadata": {
        "id": "dOhwO71jDRut"
      },
      "execution_count": null,
      "outputs": []
    },
    {
      "cell_type": "code",
      "source": [
        "df_metrica"
      ],
      "metadata": {
        "colab": {
          "base_uri": "https://localhost:8080/",
          "height": 269
        },
        "id": "2rGtc8czDyca",
        "outputId": "effb813f-188b-411f-92f8-047e2d13f378"
      },
      "execution_count": null,
      "outputs": [
        {
          "output_type": "execute_result",
          "data": {
            "text/plain": [
              "                                      Modelo  Acuracia  Precisão    Recall\n",
              "0                          RidgeClassifier()  0.946875  0.946764  0.946803\n",
              "1                               GaussianNB()  0.861458  0.863540  0.861311\n",
              "2  DecisionTreeClassifier(criterion=entropy)  0.840625  0.840996  0.841471\n",
              "3                     KNeighborsClassifier()  0.902083  0.908254  0.904048\n",
              "4  RandomForestClassifier(criterion=entropy)  0.928125  0.930070  0.927780\n",
              "5                                      SVC()  0.967708  0.968236  0.967553\n",
              "6                     ExtraTreesClassifier()  0.931250  0.933730  0.930656"
            ],
            "text/html": [
              "\n",
              "  <div id=\"df-8f5b8f3b-a072-4d1d-b5fd-7574659aa0d1\">\n",
              "    <div class=\"colab-df-container\">\n",
              "      <div>\n",
              "<style scoped>\n",
              "    .dataframe tbody tr th:only-of-type {\n",
              "        vertical-align: middle;\n",
              "    }\n",
              "\n",
              "    .dataframe tbody tr th {\n",
              "        vertical-align: top;\n",
              "    }\n",
              "\n",
              "    .dataframe thead th {\n",
              "        text-align: right;\n",
              "    }\n",
              "</style>\n",
              "<table border=\"1\" class=\"dataframe\">\n",
              "  <thead>\n",
              "    <tr style=\"text-align: right;\">\n",
              "      <th></th>\n",
              "      <th>Modelo</th>\n",
              "      <th>Acuracia</th>\n",
              "      <th>Precisão</th>\n",
              "      <th>Recall</th>\n",
              "    </tr>\n",
              "  </thead>\n",
              "  <tbody>\n",
              "    <tr>\n",
              "      <th>0</th>\n",
              "      <td>RidgeClassifier()</td>\n",
              "      <td>0.946875</td>\n",
              "      <td>0.946764</td>\n",
              "      <td>0.946803</td>\n",
              "    </tr>\n",
              "    <tr>\n",
              "      <th>1</th>\n",
              "      <td>GaussianNB()</td>\n",
              "      <td>0.861458</td>\n",
              "      <td>0.863540</td>\n",
              "      <td>0.861311</td>\n",
              "    </tr>\n",
              "    <tr>\n",
              "      <th>2</th>\n",
              "      <td>DecisionTreeClassifier(criterion=entropy)</td>\n",
              "      <td>0.840625</td>\n",
              "      <td>0.840996</td>\n",
              "      <td>0.841471</td>\n",
              "    </tr>\n",
              "    <tr>\n",
              "      <th>3</th>\n",
              "      <td>KNeighborsClassifier()</td>\n",
              "      <td>0.902083</td>\n",
              "      <td>0.908254</td>\n",
              "      <td>0.904048</td>\n",
              "    </tr>\n",
              "    <tr>\n",
              "      <th>4</th>\n",
              "      <td>RandomForestClassifier(criterion=entropy)</td>\n",
              "      <td>0.928125</td>\n",
              "      <td>0.930070</td>\n",
              "      <td>0.927780</td>\n",
              "    </tr>\n",
              "    <tr>\n",
              "      <th>5</th>\n",
              "      <td>SVC()</td>\n",
              "      <td>0.967708</td>\n",
              "      <td>0.968236</td>\n",
              "      <td>0.967553</td>\n",
              "    </tr>\n",
              "    <tr>\n",
              "      <th>6</th>\n",
              "      <td>ExtraTreesClassifier()</td>\n",
              "      <td>0.931250</td>\n",
              "      <td>0.933730</td>\n",
              "      <td>0.930656</td>\n",
              "    </tr>\n",
              "  </tbody>\n",
              "</table>\n",
              "</div>\n",
              "      <button class=\"colab-df-convert\" onclick=\"convertToInteractive('df-8f5b8f3b-a072-4d1d-b5fd-7574659aa0d1')\"\n",
              "              title=\"Convert this dataframe to an interactive table.\"\n",
              "              style=\"display:none;\">\n",
              "        \n",
              "  <svg xmlns=\"http://www.w3.org/2000/svg\" height=\"24px\"viewBox=\"0 0 24 24\"\n",
              "       width=\"24px\">\n",
              "    <path d=\"M0 0h24v24H0V0z\" fill=\"none\"/>\n",
              "    <path d=\"M18.56 5.44l.94 2.06.94-2.06 2.06-.94-2.06-.94-.94-2.06-.94 2.06-2.06.94zm-11 1L8.5 8.5l.94-2.06 2.06-.94-2.06-.94L8.5 2.5l-.94 2.06-2.06.94zm10 10l.94 2.06.94-2.06 2.06-.94-2.06-.94-.94-2.06-.94 2.06-2.06.94z\"/><path d=\"M17.41 7.96l-1.37-1.37c-.4-.4-.92-.59-1.43-.59-.52 0-1.04.2-1.43.59L10.3 9.45l-7.72 7.72c-.78.78-.78 2.05 0 2.83L4 21.41c.39.39.9.59 1.41.59.51 0 1.02-.2 1.41-.59l7.78-7.78 2.81-2.81c.8-.78.8-2.07 0-2.86zM5.41 20L4 18.59l7.72-7.72 1.47 1.35L5.41 20z\"/>\n",
              "  </svg>\n",
              "      </button>\n",
              "      \n",
              "  <style>\n",
              "    .colab-df-container {\n",
              "      display:flex;\n",
              "      flex-wrap:wrap;\n",
              "      gap: 12px;\n",
              "    }\n",
              "\n",
              "    .colab-df-convert {\n",
              "      background-color: #E8F0FE;\n",
              "      border: none;\n",
              "      border-radius: 50%;\n",
              "      cursor: pointer;\n",
              "      display: none;\n",
              "      fill: #1967D2;\n",
              "      height: 32px;\n",
              "      padding: 0 0 0 0;\n",
              "      width: 32px;\n",
              "    }\n",
              "\n",
              "    .colab-df-convert:hover {\n",
              "      background-color: #E2EBFA;\n",
              "      box-shadow: 0px 1px 2px rgba(60, 64, 67, 0.3), 0px 1px 3px 1px rgba(60, 64, 67, 0.15);\n",
              "      fill: #174EA6;\n",
              "    }\n",
              "\n",
              "    [theme=dark] .colab-df-convert {\n",
              "      background-color: #3B4455;\n",
              "      fill: #D2E3FC;\n",
              "    }\n",
              "\n",
              "    [theme=dark] .colab-df-convert:hover {\n",
              "      background-color: #434B5C;\n",
              "      box-shadow: 0px 1px 3px 1px rgba(0, 0, 0, 0.15);\n",
              "      filter: drop-shadow(0px 1px 2px rgba(0, 0, 0, 0.3));\n",
              "      fill: #FFFFFF;\n",
              "    }\n",
              "  </style>\n",
              "\n",
              "      <script>\n",
              "        const buttonEl =\n",
              "          document.querySelector('#df-8f5b8f3b-a072-4d1d-b5fd-7574659aa0d1 button.colab-df-convert');\n",
              "        buttonEl.style.display =\n",
              "          google.colab.kernel.accessAllowed ? 'block' : 'none';\n",
              "\n",
              "        async function convertToInteractive(key) {\n",
              "          const element = document.querySelector('#df-8f5b8f3b-a072-4d1d-b5fd-7574659aa0d1');\n",
              "          const dataTable =\n",
              "            await google.colab.kernel.invokeFunction('convertToInteractive',\n",
              "                                                     [key], {});\n",
              "          if (!dataTable) return;\n",
              "\n",
              "          const docLinkHtml = 'Like what you see? Visit the ' +\n",
              "            '<a target=\"_blank\" href=https://colab.research.google.com/notebooks/data_table.ipynb>data table notebook</a>'\n",
              "            + ' to learn more about interactive tables.';\n",
              "          element.innerHTML = '';\n",
              "          dataTable['output_type'] = 'display_data';\n",
              "          await google.colab.output.renderOutput(dataTable, element);\n",
              "          const docLink = document.createElement('div');\n",
              "          docLink.innerHTML = docLinkHtml;\n",
              "          element.appendChild(docLink);\n",
              "        }\n",
              "      </script>\n",
              "    </div>\n",
              "  </div>\n",
              "  "
            ]
          },
          "metadata": {},
          "execution_count": 71
        }
      ]
    },
    {
      "cell_type": "code",
      "source": [
        "plt.figure(figsize=(10,5))\n",
        "plt.title('Acuracia dos Modelos',fontsize=14)\n",
        "sns.barplot(y='Modelo',x='Acuracia',data=df_metrica,color='royalblue')"
      ],
      "metadata": {
        "colab": {
          "base_uri": "https://localhost:8080/",
          "height": 371
        },
        "id": "jf9ez_EWD1hP",
        "outputId": "b987f5aa-8fa0-4f60-e7f2-4fbad7002e05"
      },
      "execution_count": null,
      "outputs": [
        {
          "output_type": "execute_result",
          "data": {
            "text/plain": [
              "<matplotlib.axes._subplots.AxesSubplot at 0x7f4ec0efbd90>"
            ]
          },
          "metadata": {},
          "execution_count": 74
        },
        {
          "output_type": "display_data",
          "data": {
            "text/plain": [
              "<Figure size 720x360 with 1 Axes>"
            ],
            "image/png": "[encoded data removed]"
          },
          "metadata": {}
        }
      ]
    },
    {
      "cell_type": "code",
      "source": [
        "plt.figure(figsize=(10,5))\n",
        "plt.title('Precisão dos Modelos',fontsize=14)\n",
        "sns.barplot(y='Modelo',x='Precisão',data=df_metrica,color='royalblue')"
      ],
      "metadata": {
        "colab": {
          "base_uri": "https://localhost:8080/",
          "height": 371
        },
        "id": "28acjBQUNNdB",
        "outputId": "6e7633e6-c140-4ea1-86c5-56c3fe8f057b"
      },
      "execution_count": null,
      "outputs": [
        {
          "output_type": "execute_result",
          "data": {
            "text/plain": [
              "<matplotlib.axes._subplots.AxesSubplot at 0x7f4ec0da1390>"
            ]
          },
          "metadata": {},
          "execution_count": 75
        },
        {
          "output_type": "display_data",
          "data": {
            "text/plain": [
              "<Figure size 720x360 with 1 Axes>"
            ],
            "image/png": "[encoded data removed]"
          },
          "metadata": {}
        }
      ]
    },
    {
      "cell_type": "code",
      "source": [
        "plt.figure(figsize=(10,5))\n",
        "plt.title('Recall dos Modelos',fontsize=14)\n",
        "sns.barplot(y='Modelo',x='Recall',data=df_metrica,color='royalblue')"
      ],
      "metadata": {
        "colab": {
          "base_uri": "https://localhost:8080/",
          "height": 371
        },
        "id": "TMRL5aj2Nl2p",
        "outputId": "d3c34d4b-8aeb-42b8-8dc2-674df9c0f7a7"
      },
      "execution_count": null,
      "outputs": [
        {
          "output_type": "execute_result",
          "data": {
            "text/plain": [
              "<matplotlib.axes._subplots.AxesSubplot at 0x7f4ec0d29490>"
            ]
          },
          "metadata": {},
          "execution_count": 76
        },
        {
          "output_type": "display_data",
          "data": {
            "text/plain": [
              "<Figure size 720x360 with 1 Axes>"
            ],
            "image/png": "[encoded data removed]"
          },
          "metadata": {}
        }
      ]
    },
    {
      "cell_type": "code",
      "source": [
        "parametros = {'C':np.arange(0.1,1.1,0.1),'gamma':['scale','auto'],'shrinking':[True,False]}"
      ],
      "metadata": {
        "id": "ZLlROguVQMF-"
      },
      "execution_count": null,
      "outputs": []
    },
    {
      "cell_type": "code",
      "source": [
        "grid = GridSearchCV(SVC(),param_grid=parametros).fit(Xtrain,y_treino)"
      ],
      "metadata": {
        "id": "dwEeRJf6RDuT"
      },
      "execution_count": null,
      "outputs": []
    }
  ],
  "metadata": {
    "colab": {
      "provenance": [],
      "mount_file_id": "11sA_5KbXKaoYETWofa4QEbOsB4zmGjSH",
      "authorship_tag": "ABX9TyNq1OuLL/3Z90DDqDcoBplY",
      "include_colab_link": true
    },
    "gpuClass": "standard",
    "kernelspec": {
      "display_name": "Python 3",
      "name": "python3"
    },
    "language_info": {
      "name": "python"
    }
  },
  "nbformat": 4,
  "nbformat_minor": 0
}